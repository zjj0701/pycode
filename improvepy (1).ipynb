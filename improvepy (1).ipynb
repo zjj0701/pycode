{
 "cells": [
  {
   "cell_type": "code",
   "execution_count": 3,
   "id": "bab046a4-2245-4404-9076-a5aea8c561c7",
   "metadata": {},
   "outputs": [
    {
     "name": "stdout",
     "output_type": "stream",
     "text": [
      "7\n"
     ]
    }
   ],
   "source": [
    "names=['Cecilia','Lise','Marie']\n",
    "letters = [len(n) for n in names]\n",
    "print(max(letters))"
   ]
  },
  {
   "cell_type": "code",
   "execution_count": 4,
   "id": "9b4c99d9-407e-4a27-8e1d-d37826f825f3",
   "metadata": {},
   "outputs": [
    {
     "name": "stdout",
     "output_type": "stream",
     "text": [
      "Cecilia\n"
     ]
    }
   ],
   "source": [
    "longest_name = None\n",
    "max_letters = 0\n",
    "for i in range(len(names)):\n",
    "    count = letters[i]\n",
    "    if count >max_letters:\n",
    "        longest_name = names[i]\n",
    "        max_letters = count\n",
    "print(longest_name)"
   ]
  },
  {
   "cell_type": "code",
   "execution_count": 7,
   "id": "76125fa9-b4db-42b3-a730-7bb4e276b1ea",
   "metadata": {},
   "outputs": [
    {
     "name": "stdout",
     "output_type": "stream",
     "text": [
      "Cecilia 7\n"
     ]
    }
   ],
   "source": [
    "#使用enumerate改进\n",
    "names=['Cecilia','Lise','Marie']\n",
    "longest_name = None\n",
    "max_letters = 0\n",
    "for i,name in enumerate(names):\n",
    "    count = letters[i]\n",
    "    if count>max_letters:\n",
    "        longest_name = name\n",
    "        max_letters = count\n",
    "print(longest_name,max_letters)"
   ]
  },
  {
   "cell_type": "code",
   "execution_count": 8,
   "id": "f035cf27-2622-49fa-a870-0148733ba636",
   "metadata": {},
   "outputs": [
    {
     "name": "stdout",
     "output_type": "stream",
     "text": [
      "Cecilia 7\n"
     ]
    }
   ],
   "source": [
    "#NO11.使用zip生成器封装迭代器，从迭代器获取下一个值封装成元组\n",
    "names=['Cecilia','Lise','Marie']\n",
    "letters = [len(n) for n in names]\n",
    "longest_name = None\n",
    "max_letters = 0\n",
    "for name,count in zip(names,letters):\n",
    "    if count > max_letters:\n",
    "        longest_name = name\n",
    "        max_letters  = count\n",
    "print(longest_name,max_letters)"
   ]
  },
  {
   "cell_type": "code",
   "execution_count": null,
   "id": "7d992fcc-3065-4a81-af37-d7e8930bbda8",
   "metadata": {},
   "outputs": [],
   "source": [
    "#NO12.不要在for、while循环后面写else块，判断两个数互质有用"
   ]
  },
  {
   "cell_type": "code",
   "execution_count": 11,
   "id": "9e0af477-e8ab-45ec-aecb-e7ba260dfd95",
   "metadata": {},
   "outputs": [
    {
     "name": "stdout",
     "output_type": "stream",
     "text": [
      "test\n"
     ]
    }
   ],
   "source": [
    "#合理利用try/excpet/else/finally结构中的每个代码块\n",
    "#finally块：既要阻止异常向上传播给调用方，又要在异常发生时执行清理工作，使用try-finally。另外一种作用：可靠关闭文件句柄。NO43\n",
    "handle = open('test.txt')\n",
    "try:\n",
    "    data = handle.read()\n",
    "    print(data)\n",
    "finally:\n",
    "    handle.close()"
   ]
  },
  {
   "cell_type": "code",
   "execution_count": null,
   "id": "de0465a3-32b8-466e-a0c0-f87305dafa07",
   "metadata": {},
   "outputs": [],
   "source": [
    "#try，except，else 如果try没有发生异常，执行else\n",
    "#else块缩减try的代码量，把没有发生异常所要执行的代码用try-else隔开"
   ]
  },
  {
   "cell_type": "code",
   "execution_count": 13,
   "id": "2469e012-dac8-429d-9ad0-fef6b410bc08",
   "metadata": {},
   "outputs": [
    {
     "name": "stdout",
     "output_type": "stream",
     "text": [
      "4\n"
     ]
    }
   ],
   "source": [
    "#尽量用异常表示特殊情况，而不要使用None\n",
    "a = (3,4)\n",
    "_,b = a#跳过第一个元素\n",
    "print(b)"
   ]
  },
  {
   "cell_type": "code",
   "execution_count": 16,
   "id": "1eb3d292-6927-40fe-aec6-cca308680e12",
   "metadata": {},
   "outputs": [
    {
     "name": "stdout",
     "output_type": "stream",
     "text": [
      "[1, 2, 3, 4, 5, 6, 7, 8]\n",
      "<class 'set'>\n"
     ]
    }
   ],
   "source": [
    "#如何在闭包里使用外围作用域的变量？\n",
    "#https://blog.csdn.net/qq_35716085/article/details/136027158\n",
    "def sort_priority(values,group):\n",
    "    def helper(x):\n",
    "        if i in group:\n",
    "            return (0,x)\n",
    "    values.sort(key=helper)\n",
    "numbers = [8,3,1,2,5,4,7,6]\n",
    "group = {2,3,5,7}\n",
    "sort_priority(numbers,group)\n",
    "print(numbers)\n",
    "print(type(group))"
   ]
  },
  {
   "cell_type": "code",
   "execution_count": 18,
   "id": "41b7d173-1819-44d5-8e41-928f1893925d",
   "metadata": {},
   "outputs": [
    {
     "name": "stdout",
     "output_type": "stream",
     "text": [
      "Found: False\n",
      "[2, 3, 5, 7, 1, 4, 6, 8]\n"
     ]
    }
   ],
   "source": [
    "#排序的技术：https://docs.python.org/zh-cn/3/howto/sorting.html#sorting-techniques\n",
    "def sort_priority2(numbers,group):\n",
    "    found = False\n",
    "    def helper(x):\n",
    "        if x in group:\n",
    "            found = True\n",
    "            return (0,x)\n",
    "        return (1,x)\n",
    "    numbers.sort(key = helper)\n",
    "    return found\n",
    "numbers = [8,3,1,2,5,4,7,6]\n",
    "group = {2,3,5,7}\n",
    "found = sort_priority2(numbers,group)\n",
    "print(\"Found:\",found)\n",
    "print(numbers)"
   ]
  },
  {
   "cell_type": "code",
   "execution_count": 22,
   "id": "dacbde02-7ef9-45ac-b40d-14654c732c91",
   "metadata": {},
   "outputs": [
    {
     "name": "stdout",
     "output_type": "stream",
     "text": [
      "Found: True\n",
      "[2, 3, 5, 7, 1, 4, 6, 8]\n"
     ]
    }
   ],
   "source": [
    "'''\n",
    "上述的Found为False为什么呢？\n",
    "我们在闭包里对Found进行变量赋值，相当于在变量helper里面定义了名为found的新的变量\n",
    "这种问题称为作用域bug scoping bug \n",
    "获取包内的数据请使用nonlocal\n",
    "'''\n",
    "def sort_priority3(numbers,group):\n",
    "    found = False\n",
    "    def helper(x):\n",
    "        nonlocal found\n",
    "        if x in group:\n",
    "            found = True\n",
    "            return (0,x)\n",
    "        return (1,x)\n",
    "    numbers.sort(key = helper)\n",
    "    return found\n",
    "numbers = [8,3,1,2,5,4,7,6]\n",
    "group = {2,3,5,7}\n",
    "found = sort_priority3(numbers,group)\n",
    "print(\"Found:\",found)\n",
    "print(numbers)"
   ]
  },
  {
   "cell_type": "code",
   "execution_count": 26,
   "id": "00496699-a1fa-4d56-9712-e50eeab48f6d",
   "metadata": {},
   "outputs": [],
   "source": [
    "#最明智的做法是将nonlocal封装成辅助类\n",
    "class Sorter(object):\n",
    "    def __init__(self,group):\n",
    "        self.group = group\n",
    "        self.found = False\n",
    "    def __call__(self,x):\n",
    "        if x in self.group:\n",
    "            self.found = True\n",
    "            return (0,x)\n",
    "        return (1,x)\n",
    "numbers = [8,3,1,2,5,4,7,6]\n",
    "group = {2,3,5,7}\n",
    "sorter = Sorter(group)\n",
    "numbers.sort(key = sorter)\n",
    "assert sorter.found is True"
   ]
  },
  {
   "cell_type": "code",
   "execution_count": 29,
   "id": "ba96887b-2660-4ac2-905f-703525e2ec59",
   "metadata": {},
   "outputs": [
    {
     "name": "stdout",
     "output_type": "stream",
     "text": [
      "[0, 5, 11]\n"
     ]
    }
   ],
   "source": [
    "#NO16:用生成器来改写直接返回列表的函数\n",
    "def index_words(text):\n",
    "    result = []\n",
    "    if text:\n",
    "        result.append(0)\n",
    "    for index,letter in enumerate(text):\n",
    "        if letter == ' ':\n",
    "            result.append(index+1)\n",
    "    return result\n",
    "address = 'Four score and seven years ago ...'\n",
    "result = index_words(address)\n",
    "print(result[:3])"
   ]
  },
  {
   "cell_type": "code",
   "execution_count": 34,
   "id": "212e5f85-ead1-4e6b-9c69-107dc02b6d4f",
   "metadata": {},
   "outputs": [
    {
     "name": "stdout",
     "output_type": "stream",
     "text": [
      "[0, 5, 11, 15, 21, 27, 31]\n"
     ]
    }
   ],
   "source": [
    "#使用生成器修改上面的代码：使用yield\n",
    "#'yield关键字主要用于从一个函数中返回值，但与普通的return不同，yield使得函数变成一个生成器（generator'\n",
    "def index_words_iter(text):\n",
    "    if text:\n",
    "        yield 0\n",
    "    for index,letter in enumerate(text):\n",
    "        if letter ==' ':\n",
    "            yield index+1\n",
    "result = list(index_words_iter(address))\n",
    "print(result)"
   ]
  },
  {
   "cell_type": "code",
   "execution_count": 37,
   "id": "fa50380d-0a48-4348-b9e5-307bc73b6e96",
   "metadata": {},
   "outputs": [
    {
     "name": "stdout",
     "output_type": "stream",
     "text": [
      "[0, 5, 7]\n"
     ]
    }
   ],
   "source": [
    "#一个例子\n",
    "def index_file(handle):\n",
    "    offset = 0\n",
    "    for line in handle:\n",
    "        if line:\n",
    "            yield offset\n",
    "        for letter in line:\n",
    "            offset+=1\n",
    "            if letter == ' ':\n",
    "                yield offset\n",
    "\n",
    "from itertools import islice\n",
    "with open('test.txt','r') as f:\n",
    "    it = index_file(f)\n",
    "    results = islice(it,0,3)\n",
    "    print(list(results))"
   ]
  },
  {
   "cell_type": "code",
   "execution_count": 39,
   "id": "b858dcd0-ff88-4c44-812b-59d373702c33",
   "metadata": {},
   "outputs": [
    {
     "name": "stdout",
     "output_type": "stream",
     "text": [
      "[11.538461538461538, 26.923076923076923, 61.53846153846154]\n"
     ]
    }
   ],
   "source": [
    "# NO17:在参数上面迭代要多加小心 不明白\n",
    "def normalize(numbers):\n",
    "    total = sum(numbers)\n",
    "    result = []\n",
    "    for value in numbers:\n",
    "        percent = 100*value /total\n",
    "        result.append(percent)\n",
    "    return result\n",
    "visits = [15,35,80]\n",
    "percentages = normalize(visits)\n",
    "print(percentages)"
   ]
  },
  {
   "cell_type": "code",
   "execution_count": 42,
   "id": "c6c19906-ac3d-4ef4-809b-2b4d0fe5b713",
   "metadata": {},
   "outputs": [
    {
     "name": "stdout",
     "output_type": "stream",
     "text": [
      "[]\n"
     ]
    }
   ],
   "source": [
    "def normalize(numbers):\n",
    "    total = sum(numbers)\n",
    "    result = []\n",
    "    for value in numbers:\n",
    "        percent = 100*value /total\n",
    "        result.append(percent)\n",
    "    return result\n",
    "def read_visits(data_path):\n",
    "    with open(data_path) as f:\n",
    "        for line in f:\n",
    "            yield int(line)\n",
    "it = read_visits('test.txt')\n",
    "percentages = normalize(it)\n",
    "print(percentages) #结果为空，迭代器只能产生一轮结果"
   ]
  },
  {
   "cell_type": "code",
   "execution_count": 49,
   "id": "fa045c86-f81b-45a4-93a1-34a46b63a808",
   "metadata": {},
   "outputs": [
    {
     "name": "stdout",
     "output_type": "stream",
     "text": [
      "[11.538461538461538, 26.923076923076923, 61.53846153846154]\n"
     ]
    }
   ],
   "source": [
    "def read_visits(data_path):\n",
    "    with open(data_path) as f:\n",
    "        for line in f:\n",
    "            yield int(line)\n",
    "def normalize_copy(numbers):\n",
    "    number = list(numbers) #copy the iterator\n",
    "    total = sum(number)\n",
    "    result = []\n",
    "    for value in number:\n",
    "        percent = 100*value /total\n",
    "        result.append(percent)\n",
    "    return result\n",
    "it = read_visits('test.txt')\n",
    "percentages = normalize_copy(it)\n",
    "print(percentages) #结果为空，迭代器只能产生一轮结果"
   ]
  },
  {
   "cell_type": "code",
   "execution_count": null,
   "id": "1717cf55-5a31-4646-884f-9369dc90aaea",
   "metadata": {},
   "outputs": [],
   "source": [
    "#上面的例子固然好，但是如果待复制的迭代器含有大量数据，从而导致程序在赋值迭代器的时候耗尽内存而崩溃怎么办\n",
    "#一种方法是通过参数来接受另外一个函数，函数每次调用后都能返回新的迭代器\n",
    "def normalize_func(get_iter):\n",
    "    total = sum(get_iter())\n",
    "    result = []\n",
    "    for value in get_iter():\n",
    "        percent = 100*value /total\n",
    "        result.append(percent)\n",
    "    return result"
   ]
  },
  {
   "cell_type": "code",
   "execution_count": 53,
   "id": "cd26bb68-781f-4b1c-aa76-266cb213574d",
   "metadata": {},
   "outputs": [],
   "source": [
    "# NO18.用数量可变的位置参数减少视觉杂讯\n",
    "# 参数加*表示可选参数，列表加*表示元素视为位置参数\n",
    "# 变长参数传递时候总是将其转化为元组。\n",
    "# NO19.用关键字参数表达可选行为\n",
    "def remainder(number,divisor):\n",
    "    return number % divisor\n",
    "assert remainder(20,7) == 6"
   ]
  },
  {
   "cell_type": "code",
   "execution_count": 64,
   "id": "bc47cbdc-2cd8-4498-9451-fa1879fe2069",
   "metadata": {},
   "outputs": [
    {
     "name": "stdout",
     "output_type": "stream",
     "text": [
      "2024-09-09 20:38:59.269695:Hi,there\n",
      "2024-09-09 20:38:59.269695:After sleep...\n"
     ]
    }
   ],
   "source": [
    "#No20.用None和文档字符串来描述具有动态默认值的参数\n",
    "import datetime\n",
    "import time\n",
    "def log(message,when = datetime.datetime.now()):\n",
    "    print('%s:%s'%(when,message))\n",
    "log('Hi,there')\n",
    "time.sleep(2)\n",
    "log('After sleep...')"
   ]
  },
  {
   "cell_type": "code",
   "execution_count": 68,
   "id": "bd79866a-6aae-4673-8abf-683a3b89a8e4",
   "metadata": {},
   "outputs": [
    {
     "name": "stdout",
     "output_type": "stream",
     "text": [
      "2024-09-09 20:51:55.550546:Hi,there\n",
      "2024-09-09 20:51:56.550550:After sleep...\n"
     ]
    }
   ],
   "source": [
    "#执行上面的代码，我们发现日志的时间是一样的，datetime.now()只执行了一次！！！只是在函数定义的时候执行了一次\n",
    "# 实现真正的默认值，习惯把默认值设置为None\n",
    "import datetime\n",
    "import time\n",
    "def log(message,when = None):\n",
    "    when = datetime.datetime.now() if when is None else when\n",
    "    print('%s:%s'%(when,message))\n",
    "log('Hi,there')\n",
    "time.sleep(1)\n",
    "log('After sleep...')"
   ]
  },
  {
   "cell_type": "code",
   "execution_count": null,
   "id": "86d8a55c-8ceb-4e6a-bdb8-7220598263bd",
   "metadata": {},
   "outputs": [],
   "source": [
    "# 如果参数的实际默认值是mutable的，记得用Nonne作为形式上的默认值。"
   ]
  }
 ],
 "metadata": {
  "kernelspec": {
   "display_name": "Python 3 (ipykernel)",
   "language": "python",
   "name": "python3"
  },
  "language_info": {
   "codemirror_mode": {
    "name": "ipython",
    "version": 3
   },
   "file_extension": ".py",
   "mimetype": "text/x-python",
   "name": "python",
   "nbconvert_exporter": "python",
   "pygments_lexer": "ipython3",
   "version": "3.9.1"
  },
  "widgets": {
   "application/vnd.jupyter.widget-state+json": {
    "state": {},
    "version_major": 2,
    "version_minor": 0
   }
  }
 },
 "nbformat": 4,
 "nbformat_minor": 5
}
