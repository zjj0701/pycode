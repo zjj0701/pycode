{
 "cells": [
  {
   "cell_type": "code",
   "execution_count": 5,
   "id": "38bc54c4-de6d-4b79-9f7c-7b86955adf20",
   "metadata": {},
   "outputs": [
    {
     "name": "stdout",
     "output_type": "stream",
     "text": [
      "{'Isaac Newton': [90]}\n",
      "90.0\n"
     ]
    }
   ],
   "source": [
    "#No22.用辅助类来维护程序的状态，而不是字典和元组\n",
    "class SimpleGradebook(object):\n",
    "    def __init__(self):\n",
    "        self._grades={}\n",
    "\n",
    "    def add_student(self,name):\n",
    "        self._grades[name] = []\n",
    "\n",
    "    def report_grade(self,name,score):\n",
    "        self._grades[name].append(score)\n",
    "\n",
    "    def average_grade(self,name):\n",
    "        grades = self._grades[name]\n",
    "        return sum(grades) / len(grades)\n",
    "book = SimpleGradebook()\n",
    "book.add_student('Isaac Newton')\n",
    "book.report_grade('Isaac Newton',90)\n",
    "print(book._grades)\n",
    "print(book.average_grade('Isaac Newton'))"
   ]
  },
  {
   "cell_type": "code",
   "execution_count": 7,
   "id": "bc47d190-8177-4069-bf59-63bd1f082dff",
   "metadata": {},
   "outputs": [
    {
     "name": "stdout",
     "output_type": "stream",
     "text": [
      "{'Alice': {'Math': [75, 75], 'Gym': [65, 90]}}\n",
      "76.25\n"
     ]
    }
   ],
   "source": [
    "#\n",
    "class BySubjectGradeBook(object):\n",
    "    def __init__(self):\n",
    "        self._grades={} #all\n",
    "    def add_student(self,name):\n",
    "        self._grades[name] = {} #key is ..,value is dict\n",
    "    def report_grade(self,name,subject,grade):\n",
    "        by_subject = self._grades[name]\n",
    "        grade_list = by_subject.setdefault(subject,[])\n",
    "        grade_list.append(grade)\n",
    "    def average_grade(self,name):\n",
    "        by_subject = self._grades[name]\n",
    "        total,count = 0,0\n",
    "        for grades in by_subject.values():\n",
    "            total += sum(grades)\n",
    "            count += len(grades)\n",
    "        return total / count\n",
    "book = BySubjectGradeBook()\n",
    "book.add_student('Alice')\n",
    "book.report_grade('Alice','Math',75)\n",
    "book.report_grade('Alice','Math',75)\n",
    "book.report_grade('Alice','Gym',65)\n",
    "book.report_grade('Alice','Gym',90)\n",
    "print(book._grades)\n",
    "print(book.average_grade('Alice'))"
   ]
  },
  {
   "cell_type": "code",
   "execution_count": 9,
   "id": "9f68bdd3-626d-4c8f-a3b9-d018be356175",
   "metadata": {},
   "outputs": [
    {
     "name": "stdout",
     "output_type": "stream",
     "text": [
      "<method 'count' of 'tuple' objects>\n"
     ]
    }
   ],
   "source": [
    "#元组里面的元素一旦超过两项，考虑用其他办法实现\n",
    "# 例如collections里面的具名元组namedtuple\n",
    "import collections\n",
    "Grades = collections.namedtuple('Grade',('score','weight'))"
   ]
  },
  {
   "cell_type": "code",
   "execution_count": 12,
   "id": "71cfa0c7-9a18-4aa8-a654-a30d8311bea5",
   "metadata": {},
   "outputs": [],
   "source": [
    "#NO23.简单的接口应该接受函数，而不是类的实例\n",
    "#NO24.以@classmethod形式的多态去通用地构建对象\n",
    "class InputData(object):\n",
    "    def read(self):\n",
    "        raise NotImplementedError #raise 关键字在Python中用于引发一个异常。当你的程序遇到了一个错误情况，并且你希望立即停止执行当前代码块，并可能通知调用者这个错误情况时，就可以使用 raise 关键字来抛出一个异常。\n",
    "class PathInputData(InputData):\n",
    "    def __init__(self,path):\n",
    "        super().__init__()\n",
    "        self.path = path\n",
    "    def read(self):\n",
    "        return open(self.path).read()\n",
    "class Worker(object):\n",
    "    def __init__(self,input_data):\n",
    "        self.input_data=input_data\n",
    "        self.result = None\n",
    "    def map(self):\n",
    "        raise NotImplementError\n",
    "    def reduce(self,other):\n",
    "        raise NotImplementedError\n",
    "\n",
    "class LineCountWorker(Worker):\n",
    "    def map(self):\n",
    "        data = self.input_data.read()\n",
    "        self.result = data.count('\\n')\n",
    "    def reduce(self,other):\n",
    "        self.result+=other.result\n"
   ]
  },
  {
   "cell_type": "code",
   "execution_count": null,
   "id": "ee87a894-a4ad-4115-857f-c036c0d10ffb",
   "metadata": {},
   "outputs": [],
   "source": []
  }
 ],
 "metadata": {
  "kernelspec": {
   "display_name": "Python 3 (ipykernel)",
   "language": "python",
   "name": "python3"
  },
  "language_info": {
   "codemirror_mode": {
    "name": "ipython",
    "version": 3
   },
   "file_extension": ".py",
   "mimetype": "text/x-python",
   "name": "python",
   "nbconvert_exporter": "python",
   "pygments_lexer": "ipython3",
   "version": "3.9.1"
  }
 },
 "nbformat": 4,
 "nbformat_minor": 5
}
