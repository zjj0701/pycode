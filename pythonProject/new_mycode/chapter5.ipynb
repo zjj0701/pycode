{
 "cells": [
  {
   "cell_type": "code",
   "execution_count": 7,
   "id": "dfcd32df-f053-414d-a82d-f7732eb2e0f0",
   "metadata": {},
   "outputs": [
    {
     "name": "stdout",
     "output_type": "stream",
     "text": [
      "\n"
     ]
    }
   ],
   "source": [
    "#NO36.用subprocess管理子进程\n",
    "import subprocess\n",
    "proc = subprocess.Popen(\n",
    "    ['cmd','/c','hello from the child'],\n",
    "    stdout = subprocess.PIPE\n",
    ")\n",
    "out,err = proc.communicate()\n",
    "print(out.decode('utf-8'))"
   ]
  },
  {
   "cell_type": "code",
   "execution_count": 8,
   "id": "3bf58924-15b9-4aa0-bf95-27b3f1635d9a",
   "metadata": {},
   "outputs": [
    {
     "name": "stdout",
     "output_type": "stream",
     "text": [
      "3.9.1 (default, Dec 11 2020, 09:29:25) [MSC v.1916 64 bit (AMD64)]\n"
     ]
    }
   ],
   "source": [
    "import sys\n",
    "print(sys.version)"
   ]
  },
  {
   "cell_type": "code",
   "execution_count": null,
   "id": "d8ff1085-e3db-42e5-a1f6-3e5547d2bea1",
   "metadata": {},
   "outputs": [],
   "source": [
    "#No37.可以用线程来执行阻塞式IO，但不要用它做平行计算\n",
    "def factorize(number):\n",
    "    for i in range(1,number+1):\n",
    "        if number % i ==0:\n",
    "            yield i\n",
    "numbers = [2139079,1214759,1516637,1852285]\n",
    "import time\n",
    "start = time()\n",
    "for number in numbers:\n",
    "    list(factorize(number))\n",
    "end = time()\n",
    "print('%.3f'%(end-start))"
   ]
  },
  {
   "cell_type": "code",
   "execution_count": 18,
   "id": "1630faee-e454-4aa5-a6f4-100b2a0d34f1",
   "metadata": {},
   "outputs": [
    {
     "name": "stdout",
     "output_type": "stream",
     "text": [
      "10.000\n"
     ]
    }
   ],
   "source": [
    "import time\n",
    "start = time.time()\n",
    "time.sleep(10)\n",
    "end = time.time()\n",
    "print('%.3f'%(end-start))"
   ]
  },
  {
   "cell_type": "code",
   "execution_count": 20,
   "id": "80f637ff-9bd7-4420-a91d-92843f20af58",
   "metadata": {},
   "outputs": [],
   "source": [
    "# from threading import Thread\n",
    "# class FactorizeThread(Thread):\n",
    "#     def __init__(self,number):\n",
    "#         super.__init__()\n",
    "#         self.number = number\n",
    "\n",
    "#     def run(self):\n",
    "#         self.factors = list(factorize(self.number))"
   ]
  },
  {
   "cell_type": "code",
   "execution_count": 27,
   "id": "c8aff671-f923-459a-bb0c-a3cc10958b7f",
   "metadata": {},
   "outputs": [
    {
     "name": "stdout",
     "output_type": "stream",
     "text": [
      "0.251\n"
     ]
    }
   ],
   "source": [
    "import time\n",
    "from concurrent.futures import ThreadPoolExecutor\n",
    "def gcd(pair):\n",
    "    a,b = pair\n",
    "    low = min(a,b)\n",
    "    for i in range(low,0,-1):\n",
    "        if a%i == 0 and b % i ==0:\n",
    "            return i\n",
    "start = time.time()\n",
    "numbers = [(1963309,2265973),(1551645,2229620)]\n",
    "pool = ThreadPoolExecutor(max_workers = 2)\n",
    "results = list(pool.map(gcd,numbers))\n",
    "end = time.time()\n",
    "print('%.3f'%(end - start))"
   ]
  },
  {
   "cell_type": "code",
   "execution_count": 1,
   "id": "3ebc59a4-eb33-4cc1-b1b8-62347c424c04",
   "metadata": {},
   "outputs": [
    {
     "name": "stdout",
     "output_type": "stream",
     "text": [
      "'This function is testing the note...\\n    '\n"
     ]
    }
   ],
   "source": [
    "#test note\n",
    "def note():\n",
    "    '''This function is testing the note...\n",
    "    '''\n",
    "print(repr(note.__doc__))"
   ]
  },
  {
   "cell_type": "code",
   "execution_count": null,
   "id": "fa7a2f00-7020-42e6-99ca-3c92884f0a9e",
   "metadata": {},
   "outputs": [],
   "source": []
  }
 ],
 "metadata": {
  "kernelspec": {
   "display_name": "Python 3 (ipykernel)",
   "language": "python",
   "name": "python3"
  },
  "language_info": {
   "codemirror_mode": {
    "name": "ipython",
    "version": 3
   },
   "file_extension": ".py",
   "mimetype": "text/x-python",
   "name": "python",
   "nbconvert_exporter": "python",
   "pygments_lexer": "ipython3",
   "version": "3.9.1"
  },
  "widgets": {
   "application/vnd.jupyter.widget-state+json": {
    "state": {},
    "version_major": 2,
    "version_minor": 0
   }
  }
 },
 "nbformat": 4,
 "nbformat_minor": 5
}
